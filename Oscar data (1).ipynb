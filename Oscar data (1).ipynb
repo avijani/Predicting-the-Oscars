{
 "cells": [
  {
   "cell_type": "code",
   "execution_count": 2,
   "id": "f06095dc",
   "metadata": {},
   "outputs": [],
   "source": [
    "import pandas as pd\n",
    "import numpy as np\n",
    "from scipy.stats import pearsonr\n",
    "import matplotlib.pyplot as plt\n",
    "import seaborn as sns"
   ]
  },
  {
   "cell_type": "code",
   "execution_count": 3,
   "id": "f224ffab",
   "metadata": {},
   "outputs": [],
   "source": [
    "oscar_original = pd.read_csv('Oscar_2000_2018.csv')"
   ]
  },
  {
   "cell_type": "code",
   "execution_count": 4,
   "id": "54904ab7",
   "metadata": {},
   "outputs": [],
   "source": [
    "oscar_copy = oscar_original.copy()"
   ]
  },
  {
   "cell_type": "code",
   "execution_count": 5,
   "id": "5d0754c2",
   "metadata": {},
   "outputs": [
    {
     "data": {
      "text/html": [
       "<div>\n",
       "<style scoped>\n",
       "    .dataframe tbody tr th:only-of-type {\n",
       "        vertical-align: middle;\n",
       "    }\n",
       "\n",
       "    .dataframe tbody tr th {\n",
       "        vertical-align: top;\n",
       "    }\n",
       "\n",
       "    .dataframe thead th {\n",
       "        text-align: right;\n",
       "    }\n",
       "</style>\n",
       "<table border=\"1\" class=\"dataframe\">\n",
       "  <thead>\n",
       "    <tr style=\"text-align: right;\">\n",
       "      <th></th>\n",
       "      <th>year</th>\n",
       "      <th>movie</th>\n",
       "      <th>movie_id</th>\n",
       "      <th>certificate</th>\n",
       "      <th>duration</th>\n",
       "      <th>genre</th>\n",
       "      <th>rate</th>\n",
       "      <th>metascore</th>\n",
       "      <th>synopsis</th>\n",
       "      <th>votes</th>\n",
       "      <th>...</th>\n",
       "      <th>New_York_Film_Critics_Circle_nominated</th>\n",
       "      <th>New_York_Film_Critics_Circle_nominated_categories</th>\n",
       "      <th>Los_Angeles_Film_Critics_Association_won</th>\n",
       "      <th>Los_Angeles_Film_Critics_Association_won_categories</th>\n",
       "      <th>Los_Angeles_Film_Critics_Association_nominated</th>\n",
       "      <th>Los_Angeles_Film_Critics_Association_nominated_categories</th>\n",
       "      <th>release_date.year</th>\n",
       "      <th>release_date.month</th>\n",
       "      <th>release_date.day-of-month</th>\n",
       "      <th>release_date.day-of-week</th>\n",
       "    </tr>\n",
       "  </thead>\n",
       "  <tbody>\n",
       "    <tr>\n",
       "      <th>0</th>\n",
       "      <td>2001</td>\n",
       "      <td>Kate &amp; Leopold</td>\n",
       "      <td>tt0035423</td>\n",
       "      <td>PG-13</td>\n",
       "      <td>118</td>\n",
       "      <td>Comedy|Fantasy|Romance</td>\n",
       "      <td>6.4</td>\n",
       "      <td>44.0</td>\n",
       "      <td>An English Duke from 1876 is inadvertedly drag...</td>\n",
       "      <td>66660</td>\n",
       "      <td>...</td>\n",
       "      <td>0</td>\n",
       "      <td>NaN</td>\n",
       "      <td>0</td>\n",
       "      <td>NaN</td>\n",
       "      <td>0</td>\n",
       "      <td>NaN</td>\n",
       "      <td>2001.0</td>\n",
       "      <td>12.0</td>\n",
       "      <td>25.0</td>\n",
       "      <td>2.0</td>\n",
       "    </tr>\n",
       "    <tr>\n",
       "      <th>1</th>\n",
       "      <td>2000</td>\n",
       "      <td>Chicken Run</td>\n",
       "      <td>tt0120630</td>\n",
       "      <td>G</td>\n",
       "      <td>84</td>\n",
       "      <td>Animation|Adventure|Comedy</td>\n",
       "      <td>7.0</td>\n",
       "      <td>88.0</td>\n",
       "      <td>When a cockerel apparently flies into a chicke...</td>\n",
       "      <td>144475</td>\n",
       "      <td>...</td>\n",
       "      <td>1</td>\n",
       "      <td>Best Animated Film</td>\n",
       "      <td>1</td>\n",
       "      <td>Best Animation</td>\n",
       "      <td>1</td>\n",
       "      <td>Best Animation</td>\n",
       "      <td>2000.0</td>\n",
       "      <td>6.0</td>\n",
       "      <td>23.0</td>\n",
       "      <td>5.0</td>\n",
       "    </tr>\n",
       "    <tr>\n",
       "      <th>2</th>\n",
       "      <td>2005</td>\n",
       "      <td>Fantastic Four</td>\n",
       "      <td>tt0120667</td>\n",
       "      <td>PG-13</td>\n",
       "      <td>106</td>\n",
       "      <td>Action|Adventure|Family</td>\n",
       "      <td>5.7</td>\n",
       "      <td>40.0</td>\n",
       "      <td>A group of astronauts gain superpowers after a...</td>\n",
       "      <td>273203</td>\n",
       "      <td>...</td>\n",
       "      <td>0</td>\n",
       "      <td>NaN</td>\n",
       "      <td>0</td>\n",
       "      <td>NaN</td>\n",
       "      <td>0</td>\n",
       "      <td>NaN</td>\n",
       "      <td>2005.0</td>\n",
       "      <td>7.0</td>\n",
       "      <td>8.0</td>\n",
       "      <td>5.0</td>\n",
       "    </tr>\n",
       "    <tr>\n",
       "      <th>3</th>\n",
       "      <td>2002</td>\n",
       "      <td>Frida</td>\n",
       "      <td>tt0120679</td>\n",
       "      <td>R</td>\n",
       "      <td>123</td>\n",
       "      <td>Biography|Drama|Romance</td>\n",
       "      <td>7.4</td>\n",
       "      <td>61.0</td>\n",
       "      <td>A biography of artist Frida Kahlo, who channel...</td>\n",
       "      <td>63852</td>\n",
       "      <td>...</td>\n",
       "      <td>0</td>\n",
       "      <td>NaN</td>\n",
       "      <td>0</td>\n",
       "      <td>NaN</td>\n",
       "      <td>0</td>\n",
       "      <td>NaN</td>\n",
       "      <td>2002.0</td>\n",
       "      <td>11.0</td>\n",
       "      <td>22.0</td>\n",
       "      <td>5.0</td>\n",
       "    </tr>\n",
       "    <tr>\n",
       "      <th>4</th>\n",
       "      <td>2001</td>\n",
       "      <td>The Lord of the Rings: The Fellowship of the Ring</td>\n",
       "      <td>tt0120737</td>\n",
       "      <td>PG-13</td>\n",
       "      <td>178</td>\n",
       "      <td>Adventure|Drama|Fantasy</td>\n",
       "      <td>8.8</td>\n",
       "      <td>92.0</td>\n",
       "      <td>A meek Hobbit from the Shire and eight compani...</td>\n",
       "      <td>1286275</td>\n",
       "      <td>...</td>\n",
       "      <td>0</td>\n",
       "      <td>NaN</td>\n",
       "      <td>1</td>\n",
       "      <td>Best Music</td>\n",
       "      <td>2</td>\n",
       "      <td>Best Music|Best Production Design</td>\n",
       "      <td>2001.0</td>\n",
       "      <td>12.0</td>\n",
       "      <td>19.0</td>\n",
       "      <td>3.0</td>\n",
       "    </tr>\n",
       "  </tbody>\n",
       "</table>\n",
       "<p>5 rows × 119 columns</p>\n",
       "</div>"
      ],
      "text/plain": [
       "   year                                              movie   movie_id  \\\n",
       "0  2001                                     Kate & Leopold  tt0035423   \n",
       "1  2000                                        Chicken Run  tt0120630   \n",
       "2  2005                                     Fantastic Four  tt0120667   \n",
       "3  2002                                              Frida  tt0120679   \n",
       "4  2001  The Lord of the Rings: The Fellowship of the Ring  tt0120737   \n",
       "\n",
       "  certificate  duration                       genre  rate  metascore  \\\n",
       "0       PG-13       118      Comedy|Fantasy|Romance   6.4       44.0   \n",
       "1           G        84  Animation|Adventure|Comedy   7.0       88.0   \n",
       "2       PG-13       106     Action|Adventure|Family   5.7       40.0   \n",
       "3           R       123     Biography|Drama|Romance   7.4       61.0   \n",
       "4       PG-13       178     Adventure|Drama|Fantasy   8.8       92.0   \n",
       "\n",
       "                                            synopsis    votes  ...  \\\n",
       "0  An English Duke from 1876 is inadvertedly drag...    66660  ...   \n",
       "1  When a cockerel apparently flies into a chicke...   144475  ...   \n",
       "2  A group of astronauts gain superpowers after a...   273203  ...   \n",
       "3  A biography of artist Frida Kahlo, who channel...    63852  ...   \n",
       "4  A meek Hobbit from the Shire and eight compani...  1286275  ...   \n",
       "\n",
       "   New_York_Film_Critics_Circle_nominated  \\\n",
       "0                                       0   \n",
       "1                                       1   \n",
       "2                                       0   \n",
       "3                                       0   \n",
       "4                                       0   \n",
       "\n",
       "  New_York_Film_Critics_Circle_nominated_categories  \\\n",
       "0                                               NaN   \n",
       "1                                Best Animated Film   \n",
       "2                                               NaN   \n",
       "3                                               NaN   \n",
       "4                                               NaN   \n",
       "\n",
       "   Los_Angeles_Film_Critics_Association_won  \\\n",
       "0                                         0   \n",
       "1                                         1   \n",
       "2                                         0   \n",
       "3                                         0   \n",
       "4                                         1   \n",
       "\n",
       "   Los_Angeles_Film_Critics_Association_won_categories  \\\n",
       "0                                                NaN     \n",
       "1                                     Best Animation     \n",
       "2                                                NaN     \n",
       "3                                                NaN     \n",
       "4                                         Best Music     \n",
       "\n",
       "   Los_Angeles_Film_Critics_Association_nominated  \\\n",
       "0                                               0   \n",
       "1                                               1   \n",
       "2                                               0   \n",
       "3                                               0   \n",
       "4                                               2   \n",
       "\n",
       "   Los_Angeles_Film_Critics_Association_nominated_categories  \\\n",
       "0                                                NaN           \n",
       "1                                     Best Animation           \n",
       "2                                                NaN           \n",
       "3                                                NaN           \n",
       "4                  Best Music|Best Production Design           \n",
       "\n",
       "   release_date.year release_date.month release_date.day-of-month  \\\n",
       "0             2001.0               12.0                      25.0   \n",
       "1             2000.0                6.0                      23.0   \n",
       "2             2005.0                7.0                       8.0   \n",
       "3             2002.0               11.0                      22.0   \n",
       "4             2001.0               12.0                      19.0   \n",
       "\n",
       "  release_date.day-of-week  \n",
       "0                      2.0  \n",
       "1                      5.0  \n",
       "2                      5.0  \n",
       "3                      5.0  \n",
       "4                      3.0  \n",
       "\n",
       "[5 rows x 119 columns]"
      ]
     },
     "execution_count": 5,
     "metadata": {},
     "output_type": "execute_result"
    }
   ],
   "source": [
    "oscar_copy.head()"
   ]
  },
  {
   "cell_type": "code",
   "execution_count": 6,
   "id": "30825143",
   "metadata": {},
   "outputs": [
    {
     "data": {
      "text/html": [
       "<div>\n",
       "<style scoped>\n",
       "    .dataframe tbody tr th:only-of-type {\n",
       "        vertical-align: middle;\n",
       "    }\n",
       "\n",
       "    .dataframe tbody tr th {\n",
       "        vertical-align: top;\n",
       "    }\n",
       "\n",
       "    .dataframe thead th {\n",
       "        text-align: right;\n",
       "    }\n",
       "</style>\n",
       "<table border=\"1\" class=\"dataframe\">\n",
       "  <thead>\n",
       "    <tr style=\"text-align: right;\">\n",
       "      <th></th>\n",
       "      <th>year</th>\n",
       "      <th>duration</th>\n",
       "      <th>rate</th>\n",
       "      <th>metascore</th>\n",
       "      <th>votes</th>\n",
       "      <th>gross</th>\n",
       "      <th>user_reviews</th>\n",
       "      <th>critic_reviews</th>\n",
       "      <th>popularity</th>\n",
       "      <th>awards_wins</th>\n",
       "      <th>...</th>\n",
       "      <th>Boston_Society_of_Film_Critics_won</th>\n",
       "      <th>Boston_Society_of_Film_Critics_nominated</th>\n",
       "      <th>New_York_Film_Critics_Circle_won</th>\n",
       "      <th>New_York_Film_Critics_Circle_nominated</th>\n",
       "      <th>Los_Angeles_Film_Critics_Association_won</th>\n",
       "      <th>Los_Angeles_Film_Critics_Association_nominated</th>\n",
       "      <th>release_date.year</th>\n",
       "      <th>release_date.month</th>\n",
       "      <th>release_date.day-of-month</th>\n",
       "      <th>release_date.day-of-week</th>\n",
       "    </tr>\n",
       "  </thead>\n",
       "  <tbody>\n",
       "    <tr>\n",
       "      <th>count</th>\n",
       "      <td>1235.000000</td>\n",
       "      <td>1235.000000</td>\n",
       "      <td>1235.000000</td>\n",
       "      <td>1206.000000</td>\n",
       "      <td>1.235000e+03</td>\n",
       "      <td>1.193000e+03</td>\n",
       "      <td>1221.000000</td>\n",
       "      <td>1225.000000</td>\n",
       "      <td>1100.000000</td>\n",
       "      <td>1235.000000</td>\n",
       "      <td>...</td>\n",
       "      <td>1235.000000</td>\n",
       "      <td>1235.000000</td>\n",
       "      <td>1235.000000</td>\n",
       "      <td>1235.000000</td>\n",
       "      <td>1235.000000</td>\n",
       "      <td>1235.000000</td>\n",
       "      <td>1205.000000</td>\n",
       "      <td>1205.000000</td>\n",
       "      <td>1205.000000</td>\n",
       "      <td>1205.000000</td>\n",
       "    </tr>\n",
       "    <tr>\n",
       "      <th>mean</th>\n",
       "      <td>2008.602429</td>\n",
       "      <td>115.082591</td>\n",
       "      <td>7.066397</td>\n",
       "      <td>64.165837</td>\n",
       "      <td>1.868612e+05</td>\n",
       "      <td>8.688069e+07</td>\n",
       "      <td>568.193284</td>\n",
       "      <td>265.664490</td>\n",
       "      <td>1270.490909</td>\n",
       "      <td>2.980567</td>\n",
       "      <td>...</td>\n",
       "      <td>0.168421</td>\n",
       "      <td>0.325506</td>\n",
       "      <td>0.148178</td>\n",
       "      <td>0.308502</td>\n",
       "      <td>0.184615</td>\n",
       "      <td>0.335223</td>\n",
       "      <td>2008.570954</td>\n",
       "      <td>6.777593</td>\n",
       "      <td>16.034025</td>\n",
       "      <td>4.688797</td>\n",
       "    </tr>\n",
       "    <tr>\n",
       "      <th>std</th>\n",
       "      <td>5.292865</td>\n",
       "      <td>22.249134</td>\n",
       "      <td>0.822474</td>\n",
       "      <td>16.989839</td>\n",
       "      <td>1.905188e+05</td>\n",
       "      <td>1.046271e+08</td>\n",
       "      <td>578.088225</td>\n",
       "      <td>146.452956</td>\n",
       "      <td>1026.061367</td>\n",
       "      <td>6.344483</td>\n",
       "      <td>...</td>\n",
       "      <td>0.590970</td>\n",
       "      <td>0.899823</td>\n",
       "      <td>0.515469</td>\n",
       "      <td>0.831638</td>\n",
       "      <td>0.576349</td>\n",
       "      <td>0.896245</td>\n",
       "      <td>5.147749</td>\n",
       "      <td>3.691644</td>\n",
       "      <td>8.314000</td>\n",
       "      <td>0.764831</td>\n",
       "    </tr>\n",
       "    <tr>\n",
       "      <th>min</th>\n",
       "      <td>2000.000000</td>\n",
       "      <td>7.000000</td>\n",
       "      <td>2.400000</td>\n",
       "      <td>9.000000</td>\n",
       "      <td>3.000000e+01</td>\n",
       "      <td>1.207000e+03</td>\n",
       "      <td>1.000000</td>\n",
       "      <td>1.000000</td>\n",
       "      <td>1.000000</td>\n",
       "      <td>0.000000</td>\n",
       "      <td>...</td>\n",
       "      <td>0.000000</td>\n",
       "      <td>0.000000</td>\n",
       "      <td>0.000000</td>\n",
       "      <td>0.000000</td>\n",
       "      <td>0.000000</td>\n",
       "      <td>0.000000</td>\n",
       "      <td>2000.000000</td>\n",
       "      <td>1.000000</td>\n",
       "      <td>1.000000</td>\n",
       "      <td>1.000000</td>\n",
       "    </tr>\n",
       "    <tr>\n",
       "      <th>25%</th>\n",
       "      <td>2004.000000</td>\n",
       "      <td>101.000000</td>\n",
       "      <td>6.600000</td>\n",
       "      <td>52.000000</td>\n",
       "      <td>6.018000e+04</td>\n",
       "      <td>1.542000e+07</td>\n",
       "      <td>214.000000</td>\n",
       "      <td>160.000000</td>\n",
       "      <td>489.000000</td>\n",
       "      <td>0.000000</td>\n",
       "      <td>...</td>\n",
       "      <td>0.000000</td>\n",
       "      <td>0.000000</td>\n",
       "      <td>0.000000</td>\n",
       "      <td>0.000000</td>\n",
       "      <td>0.000000</td>\n",
       "      <td>0.000000</td>\n",
       "      <td>2004.000000</td>\n",
       "      <td>3.000000</td>\n",
       "      <td>9.000000</td>\n",
       "      <td>5.000000</td>\n",
       "    </tr>\n",
       "    <tr>\n",
       "      <th>50%</th>\n",
       "      <td>2009.000000</td>\n",
       "      <td>114.000000</td>\n",
       "      <td>7.200000</td>\n",
       "      <td>66.000000</td>\n",
       "      <td>1.339110e+05</td>\n",
       "      <td>5.206600e+07</td>\n",
       "      <td>403.000000</td>\n",
       "      <td>237.000000</td>\n",
       "      <td>1063.000000</td>\n",
       "      <td>0.000000</td>\n",
       "      <td>...</td>\n",
       "      <td>0.000000</td>\n",
       "      <td>0.000000</td>\n",
       "      <td>0.000000</td>\n",
       "      <td>0.000000</td>\n",
       "      <td>0.000000</td>\n",
       "      <td>0.000000</td>\n",
       "      <td>2009.000000</td>\n",
       "      <td>7.000000</td>\n",
       "      <td>16.000000</td>\n",
       "      <td>5.000000</td>\n",
       "    </tr>\n",
       "    <tr>\n",
       "      <th>75%</th>\n",
       "      <td>2013.000000</td>\n",
       "      <td>128.000000</td>\n",
       "      <td>7.650000</td>\n",
       "      <td>78.000000</td>\n",
       "      <td>2.570945e+05</td>\n",
       "      <td>1.201474e+08</td>\n",
       "      <td>708.000000</td>\n",
       "      <td>350.000000</td>\n",
       "      <td>1763.750000</td>\n",
       "      <td>3.000000</td>\n",
       "      <td>...</td>\n",
       "      <td>0.000000</td>\n",
       "      <td>0.000000</td>\n",
       "      <td>0.000000</td>\n",
       "      <td>0.000000</td>\n",
       "      <td>0.000000</td>\n",
       "      <td>0.000000</td>\n",
       "      <td>2013.000000</td>\n",
       "      <td>10.000000</td>\n",
       "      <td>23.000000</td>\n",
       "      <td>5.000000</td>\n",
       "    </tr>\n",
       "    <tr>\n",
       "      <th>max</th>\n",
       "      <td>2018.000000</td>\n",
       "      <td>224.000000</td>\n",
       "      <td>9.000000</td>\n",
       "      <td>100.000000</td>\n",
       "      <td>1.743331e+06</td>\n",
       "      <td>9.366300e+08</td>\n",
       "      <td>5078.000000</td>\n",
       "      <td>816.000000</td>\n",
       "      <td>4937.000000</td>\n",
       "      <td>49.000000</td>\n",
       "      <td>...</td>\n",
       "      <td>5.000000</td>\n",
       "      <td>6.000000</td>\n",
       "      <td>5.000000</td>\n",
       "      <td>6.000000</td>\n",
       "      <td>5.000000</td>\n",
       "      <td>7.000000</td>\n",
       "      <td>2018.000000</td>\n",
       "      <td>12.000000</td>\n",
       "      <td>31.000000</td>\n",
       "      <td>7.000000</td>\n",
       "    </tr>\n",
       "  </tbody>\n",
       "</table>\n",
       "<p>8 rows × 56 columns</p>\n",
       "</div>"
      ],
      "text/plain": [
       "              year     duration         rate    metascore         votes  \\\n",
       "count  1235.000000  1235.000000  1235.000000  1206.000000  1.235000e+03   \n",
       "mean   2008.602429   115.082591     7.066397    64.165837  1.868612e+05   \n",
       "std       5.292865    22.249134     0.822474    16.989839  1.905188e+05   \n",
       "min    2000.000000     7.000000     2.400000     9.000000  3.000000e+01   \n",
       "25%    2004.000000   101.000000     6.600000    52.000000  6.018000e+04   \n",
       "50%    2009.000000   114.000000     7.200000    66.000000  1.339110e+05   \n",
       "75%    2013.000000   128.000000     7.650000    78.000000  2.570945e+05   \n",
       "max    2018.000000   224.000000     9.000000   100.000000  1.743331e+06   \n",
       "\n",
       "              gross  user_reviews  critic_reviews   popularity  awards_wins  \\\n",
       "count  1.193000e+03   1221.000000     1225.000000  1100.000000  1235.000000   \n",
       "mean   8.688069e+07    568.193284      265.664490  1270.490909     2.980567   \n",
       "std    1.046271e+08    578.088225      146.452956  1026.061367     6.344483   \n",
       "min    1.207000e+03      1.000000        1.000000     1.000000     0.000000   \n",
       "25%    1.542000e+07    214.000000      160.000000   489.000000     0.000000   \n",
       "50%    5.206600e+07    403.000000      237.000000  1063.000000     0.000000   \n",
       "75%    1.201474e+08    708.000000      350.000000  1763.750000     3.000000   \n",
       "max    9.366300e+08   5078.000000      816.000000  4937.000000    49.000000   \n",
       "\n",
       "       ...  Boston_Society_of_Film_Critics_won  \\\n",
       "count  ...                         1235.000000   \n",
       "mean   ...                            0.168421   \n",
       "std    ...                            0.590970   \n",
       "min    ...                            0.000000   \n",
       "25%    ...                            0.000000   \n",
       "50%    ...                            0.000000   \n",
       "75%    ...                            0.000000   \n",
       "max    ...                            5.000000   \n",
       "\n",
       "       Boston_Society_of_Film_Critics_nominated  \\\n",
       "count                               1235.000000   \n",
       "mean                                   0.325506   \n",
       "std                                    0.899823   \n",
       "min                                    0.000000   \n",
       "25%                                    0.000000   \n",
       "50%                                    0.000000   \n",
       "75%                                    0.000000   \n",
       "max                                    6.000000   \n",
       "\n",
       "       New_York_Film_Critics_Circle_won  \\\n",
       "count                       1235.000000   \n",
       "mean                           0.148178   \n",
       "std                            0.515469   \n",
       "min                            0.000000   \n",
       "25%                            0.000000   \n",
       "50%                            0.000000   \n",
       "75%                            0.000000   \n",
       "max                            5.000000   \n",
       "\n",
       "       New_York_Film_Critics_Circle_nominated  \\\n",
       "count                             1235.000000   \n",
       "mean                                 0.308502   \n",
       "std                                  0.831638   \n",
       "min                                  0.000000   \n",
       "25%                                  0.000000   \n",
       "50%                                  0.000000   \n",
       "75%                                  0.000000   \n",
       "max                                  6.000000   \n",
       "\n",
       "       Los_Angeles_Film_Critics_Association_won  \\\n",
       "count                               1235.000000   \n",
       "mean                                   0.184615   \n",
       "std                                    0.576349   \n",
       "min                                    0.000000   \n",
       "25%                                    0.000000   \n",
       "50%                                    0.000000   \n",
       "75%                                    0.000000   \n",
       "max                                    5.000000   \n",
       "\n",
       "       Los_Angeles_Film_Critics_Association_nominated  release_date.year  \\\n",
       "count                                     1235.000000        1205.000000   \n",
       "mean                                         0.335223        2008.570954   \n",
       "std                                          0.896245           5.147749   \n",
       "min                                          0.000000        2000.000000   \n",
       "25%                                          0.000000        2004.000000   \n",
       "50%                                          0.000000        2009.000000   \n",
       "75%                                          0.000000        2013.000000   \n",
       "max                                          7.000000        2018.000000   \n",
       "\n",
       "       release_date.month  release_date.day-of-month  release_date.day-of-week  \n",
       "count         1205.000000                1205.000000               1205.000000  \n",
       "mean             6.777593                  16.034025                  4.688797  \n",
       "std              3.691644                   8.314000                  0.764831  \n",
       "min              1.000000                   1.000000                  1.000000  \n",
       "25%              3.000000                   9.000000                  5.000000  \n",
       "50%              7.000000                  16.000000                  5.000000  \n",
       "75%             10.000000                  23.000000                  5.000000  \n",
       "max             12.000000                  31.000000                  7.000000  \n",
       "\n",
       "[8 rows x 56 columns]"
      ]
     },
     "execution_count": 6,
     "metadata": {},
     "output_type": "execute_result"
    }
   ],
   "source": [
    "oscar_copy.describe()"
   ]
  },
  {
   "cell_type": "code",
   "execution_count": 7,
   "id": "d1c9f9da",
   "metadata": {},
   "outputs": [
    {
     "name": "stdout",
     "output_type": "stream",
     "text": [
      "<class 'pandas.core.frame.DataFrame'>\n",
      "RangeIndex: 1235 entries, 0 to 1234\n",
      "Columns: 119 entries, year to release_date.day-of-week\n",
      "dtypes: float64(10), int64(46), object(63)\n",
      "memory usage: 1.1+ MB\n"
     ]
    }
   ],
   "source": [
    "oscar_copy.info()"
   ]
  },
  {
   "cell_type": "code",
   "execution_count": 8,
   "id": "62030510",
   "metadata": {},
   "outputs": [],
   "source": [
    "oscar_copy = oscar_copy.drop_duplicates(keep = 'first')"
   ]
  },
  {
   "cell_type": "markdown",
   "id": "4ea44da6",
   "metadata": {},
   "source": [
    "# Part 1 EDA"
   ]
  },
  {
   "cell_type": "markdown",
   "id": "158b6357",
   "metadata": {},
   "source": [
    "# Question 1 - Using a scatterplot or a pair plot show the relationship between features “user_reviews” and “critic_reviews”. Find the Pearson's correlation coefficient(r) between the 2 features."
   ]
  },
  {
   "cell_type": "code",
   "execution_count": 9,
   "id": "cf62c47a",
   "metadata": {},
   "outputs": [],
   "source": [
    "reviews = oscar_copy[[\"user_reviews\",\"critic_reviews\"]]"
   ]
  },
  {
   "cell_type": "code",
   "execution_count": 10,
   "id": "2f45fa10",
   "metadata": {},
   "outputs": [
    {
     "data": {
      "text/plain": [
       "<seaborn.axisgrid.PairGrid at 0x240251ed160>"
      ]
     },
     "execution_count": 10,
     "metadata": {},
     "output_type": "execute_result"
    },
    {
     "data": {
      "image/png": "[encoded data removed]",
      "text/plain": [
       "<Figure size 600x600 with 6 Axes>"
      ]
     },
     "metadata": {},
     "output_type": "display_data"
    }
   ],
   "source": [
    "sns.pairplot(reviews,height=3)"
   ]
  },
  {
   "cell_type": "markdown",
   "id": "c429553f",
   "metadata": {},
   "source": [
    "# Plot the average “duration” per “certificate” feature. In other words, x-axis would be “certificate” and the y-axes would be the average duration."
   ]
  },
  {
   "cell_type": "code",
   "execution_count": 10,
   "id": "63ef4b8a",
   "metadata": {},
   "outputs": [
    {
     "data": {
      "image/png": "[encoded data removed]",
      "text/plain": [
       "<Figure size 640x480 with 1 Axes>"
      ]
     },
     "metadata": {},
     "output_type": "display_data"
    }
   ],
   "source": [
    "# group the data by certificate and calculate the mean duration\n",
    "avg_duration = oscar_copy.groupby('certificate')['duration'].mean()\n",
    "\n",
    "# create a bar plot\n",
    "plt.bar(avg_duration.index, avg_duration.values)\n",
    "\n",
    "# set the labels for x and y axes\n",
    "plt.xlabel('Certificate')\n",
    "plt.ylabel('Average Duration')\n",
    "\n",
    "# show the plot\n",
    "plt.show()"
   ]
  },
  {
   "cell_type": "markdown",
   "id": "15b89fb3",
   "metadata": {},
   "source": [
    "# Plot a histogram for the “genre” feature. Note that the field “genre” needs to be split first to find the frequency for each individual genre type; “Comedy”, “Romance”, “Action” etc. (Hint: Functions like “strsplit” in R or “split” in Python can be used)"
   ]
  },
  {
   "cell_type": "code",
   "execution_count": 11,
   "id": "c2b5ed27",
   "metadata": {},
   "outputs": [],
   "source": [
    "# split the genres and create a list of all genres\n",
    "genres = []\n",
    "for row in oscar_copy['genre']:\n",
    "    genres.extend(row.split('|'))\n",
    "\n",
    "# count the frequency of each genre\n",
    "genre_count = pd.Series(genres).value_counts()"
   ]
  },
  {
   "cell_type": "code",
   "execution_count": 12,
   "id": "38a9e558",
   "metadata": {},
   "outputs": [
    {
     "data": {
      "image/png": "[encoded data removed]",
      "text/plain": [
       "<Figure size 640x480 with 1 Axes>"
      ]
     },
     "metadata": {},
     "output_type": "display_data"
    }
   ],
   "source": [
    "# create a histogram\n",
    "plt.hist(genres, bins=len(genre_count))\n",
    "\n",
    "# set the labels for x and y axes\n",
    "plt.xlabel('Genre')\n",
    "plt.ylabel('Frequency')\n",
    "plt.xticks(rotation = 90)\n",
    "plt.show()"
   ]
  },
  {
   "cell_type": "markdown",
   "id": "42e81210",
   "metadata": {},
   "source": [
    "# Part 2 Model Building"
   ]
  },
  {
   "cell_type": "markdown",
   "id": "39d0559e",
   "metadata": {},
   "source": [
    "# You are going to predict “Oscar_Best_Picture_won” feature; this will be your target variable. Remove all of the features which has the convention “Oscar_Best_XXX_won” except for the target variable “Oscar_Best_Picture_won”."
   ]
  },
  {
   "cell_type": "code",
   "execution_count": 13,
   "id": "9a5ade59",
   "metadata": {},
   "outputs": [
    {
     "data": {
      "text/plain": [
       "Index(['year', 'movie', 'movie_id', 'certificate', 'duration', 'genre', 'rate',\n",
       "       'metascore', 'synopsis', 'votes',\n",
       "       ...\n",
       "       'New_York_Film_Critics_Circle_nominated',\n",
       "       'New_York_Film_Critics_Circle_nominated_categories',\n",
       "       'Los_Angeles_Film_Critics_Association_won',\n",
       "       'Los_Angeles_Film_Critics_Association_won_categories',\n",
       "       'Los_Angeles_Film_Critics_Association_nominated',\n",
       "       'Los_Angeles_Film_Critics_Association_nominated_categories',\n",
       "       'release_date.year', 'release_date.month', 'release_date.day-of-month',\n",
       "       'release_date.day-of-week'],\n",
       "      dtype='object', length=119)"
      ]
     },
     "execution_count": 13,
     "metadata": {},
     "output_type": "execute_result"
    }
   ],
   "source": [
    "oscar_copy.columns"
   ]
  },
  {
   "cell_type": "code",
   "execution_count": 14,
   "id": "b79f62ee",
   "metadata": {},
   "outputs": [],
   "source": [
    "features_to_remove = [col for col in oscar_copy.columns if 'Oscar_Best_' in col and col != 'Oscar_Best_Picture_won']\n",
    "oscar_copy.drop(features_to_remove, axis=1, inplace=True)"
   ]
  },
  {
   "cell_type": "markdown",
   "id": "8764d56f",
   "metadata": {},
   "source": [
    "# Convert the target variable’s type to a numerical type by doing the transformation,“Yes” = 1, “No” = 0."
   ]
  },
  {
   "cell_type": "code",
   "execution_count": 15,
   "id": "386411e5",
   "metadata": {},
   "outputs": [
    {
     "data": {
      "text/plain": [
       "0       No\n",
       "1       No\n",
       "2       No\n",
       "3       No\n",
       "4       No\n",
       "        ..\n",
       "1230    No\n",
       "1231    No\n",
       "1232    No\n",
       "1233    No\n",
       "1234    No\n",
       "Name: Oscar_Best_Picture_won, Length: 1235, dtype: object"
      ]
     },
     "execution_count": 15,
     "metadata": {},
     "output_type": "execute_result"
    }
   ],
   "source": [
    "oscar_copy['Oscar_Best_Picture_won']"
   ]
  },
  {
   "cell_type": "code",
   "execution_count": 16,
   "id": "ada164d2",
   "metadata": {},
   "outputs": [],
   "source": [
    "oscar_copy[\"Oscar_Best_Picture_won\"] = oscar_copy[\"Oscar_Best_Picture_won\"].map({\"Yes\": 1, \"No\": 0})"
   ]
  },
  {
   "cell_type": "code",
   "execution_count": 17,
   "id": "88ce16f8",
   "metadata": {},
   "outputs": [
    {
     "data": {
      "text/plain": [
       "2"
      ]
     },
     "execution_count": 17,
     "metadata": {},
     "output_type": "execute_result"
    }
   ],
   "source": [
    "len(oscar_copy[\"Oscar_Best_Picture_won\"].value_counts()[:,])"
   ]
  },
  {
   "cell_type": "code",
   "execution_count": 18,
   "id": "723ff363",
   "metadata": {},
   "outputs": [],
   "source": [
    "problem_rows = []\n",
    "\n",
    "n = oscar_copy.shape[0]"
   ]
  },
  {
   "cell_type": "markdown",
   "id": "25d4cd4f",
   "metadata": {},
   "source": [
    "# Remove columns with high cardinality, i.e., for every column that has a unique value frequency of 70% or higher, remove them from the dataset. "
   ]
  },
  {
   "cell_type": "code",
   "execution_count": 19,
   "id": "05217eb0",
   "metadata": {},
   "outputs": [],
   "source": [
    "for column in oscar_copy.columns:\n",
    "    unique = len(oscar_copy[\"Oscar_Best_Picture_won\"].value_counts()[:,])\n",
    "    cardinality = (unique/n)*100\n",
    "    if(cardinality >= 70):\n",
    "        oscar_copy.drop(column, axis=1, inplace=True)"
   ]
  },
  {
   "cell_type": "markdown",
   "id": "de88099a",
   "metadata": {},
   "source": [
    "# Preprocessing the Data"
   ]
  },
  {
   "cell_type": "code",
   "execution_count": 20,
   "id": "c5eec92a",
   "metadata": {},
   "outputs": [
    {
     "name": "stdout",
     "output_type": "stream",
     "text": [
      "<class 'pandas.core.frame.DataFrame'>\n",
      "Int64Index: 1235 entries, 0 to 1234\n",
      "Columns: 104 entries, year to release_date.day-of-week\n",
      "dtypes: float64(10), int64(47), object(47)\n",
      "memory usage: 1013.1+ KB\n"
     ]
    }
   ],
   "source": [
    "oscar_copy.info()"
   ]
  },
  {
   "cell_type": "code",
   "execution_count": 21,
   "id": "35bb4a26",
   "metadata": {},
   "outputs": [],
   "source": [
    "from sklearn.impute import SimpleImputer\n",
    "\n",
    "# Create an instance of the SimpleImputer class\n",
    "imputer_numerical = SimpleImputer(strategy='mean')\n",
    "imputer_float = SimpleImputer(strategy='mean')\n",
    "imputer_categorical = SimpleImputer(strategy='most_frequent')"
   ]
  },
  {
   "cell_type": "code",
   "execution_count": 22,
   "id": "8b877b04",
   "metadata": {},
   "outputs": [],
   "source": [
    "# Splitting data by separating the int, float and object columns\n",
    "\n",
    "oscar_copy_numerical = oscar_copy.select_dtypes(include='int64')\n",
    "num_columns = oscar_copy.select_dtypes(include='int64').columns\n",
    "oscar_copy_float = oscar_copy.select_dtypes(include='float64')\n",
    "float_columns = oscar_copy.select_dtypes(include='float64').columns\n",
    "oscar_copy_categorical = oscar_copy.select_dtypes(include='object')\n",
    "categorical_columns = oscar_copy.select_dtypes(include='object').columns"
   ]
  },
  {
   "cell_type": "code",
   "execution_count": 23,
   "id": "12f06542",
   "metadata": {},
   "outputs": [
    {
     "data": {
      "text/plain": [
       "SimpleImputer(strategy='most_frequent')"
      ]
     },
     "execution_count": 23,
     "metadata": {},
     "output_type": "execute_result"
    }
   ],
   "source": [
    "# Performing Imputations on the separate data\n",
    "\n",
    "imputer_numerical.fit(oscar_copy_numerical)\n",
    "imputer_float.fit(oscar_copy_float)\n",
    "imputer_categorical.fit(oscar_copy_categorical)"
   ]
  },
  {
   "cell_type": "code",
   "execution_count": 24,
   "id": "1e99ae28",
   "metadata": {},
   "outputs": [],
   "source": [
    "oscar_copy_numerical = pd.DataFrame(imputer_numerical.transform(oscar_copy_numerical),columns = num_columns)\n",
    "oscar_copy_float = pd.DataFrame(imputer_float.transform(oscar_copy_float), columns = float_columns).astype('float32')\n",
    "oscar_copy_categorical = pd.DataFrame(imputer_categorical.transform(oscar_copy_categorical), columns = categorical_columns)"
   ]
  },
  {
   "cell_type": "code",
   "execution_count": 25,
   "id": "6623c87c",
   "metadata": {},
   "outputs": [],
   "source": [
    "# Creating an instance of the Label Encoder for the Categorical Data\n",
    "\n",
    "from sklearn.preprocessing import LabelEncoder\n",
    "\n",
    "le = LabelEncoder()"
   ]
  },
  {
   "cell_type": "code",
   "execution_count": 26,
   "id": "03ee0548",
   "metadata": {},
   "outputs": [],
   "source": [
    "# Performing Label Encoding on the Categorical Data\n",
    "\n",
    "oscar_copy_categorical = oscar_copy_categorical.apply(LabelEncoder().fit_transform)"
   ]
  },
  {
   "cell_type": "code",
   "execution_count": 27,
   "id": "339c29f3",
   "metadata": {},
   "outputs": [],
   "source": [
    "# Merging the Preprocessed Data\n",
    "\n",
    "new_oscar = pd.concat([oscar_copy_numerical,oscar_copy_float,oscar_copy_categorical], axis = 1)"
   ]
  },
  {
   "cell_type": "code",
   "execution_count": 28,
   "id": "abaacb6e",
   "metadata": {},
   "outputs": [
    {
     "name": "stdout",
     "output_type": "stream",
     "text": [
      "<class 'pandas.core.frame.DataFrame'>\n",
      "RangeIndex: 1235 entries, 0 to 1234\n",
      "Columns: 104 entries, year to Los_Angeles_Film_Critics_Association_nominated_categories\n",
      "dtypes: float32(10), float64(47), int32(47)\n",
      "memory usage: 728.6 KB\n"
     ]
    }
   ],
   "source": [
    "new_oscar.info()"
   ]
  },
  {
   "cell_type": "markdown",
   "id": "65b5c321",
   "metadata": {},
   "source": [
    "# . Perform a time split and create a training dataset spanning the period 2000-2017 and a test dataset for the movies released in 2018 - use “year” feature for the data split"
   ]
  },
  {
   "cell_type": "code",
   "execution_count": 29,
   "id": "f52fa6b4",
   "metadata": {},
   "outputs": [],
   "source": [
    "train_index = np.where(np.array(new_oscar['release_date.year']) < 2018)[0]"
   ]
  },
  {
   "cell_type": "code",
   "execution_count": 30,
   "id": "17e33ab1",
   "metadata": {},
   "outputs": [],
   "source": [
    "train = new_oscar.iloc[train_index,:]"
   ]
  },
  {
   "cell_type": "code",
   "execution_count": 31,
   "id": "4992ba60",
   "metadata": {},
   "outputs": [],
   "source": [
    "test_index = np.where(np.array(new_oscar['release_date.year']) == 2018)[0]"
   ]
  },
  {
   "cell_type": "code",
   "execution_count": 32,
   "id": "f7357fdd",
   "metadata": {},
   "outputs": [],
   "source": [
    "test = new_oscar.iloc[test_index,:]"
   ]
  },
  {
   "cell_type": "code",
   "execution_count": 33,
   "id": "f5e99bc2",
   "metadata": {},
   "outputs": [
    {
     "data": {
      "text/plain": [
       "(1201, 104)"
      ]
     },
     "execution_count": 33,
     "metadata": {},
     "output_type": "execute_result"
    }
   ],
   "source": [
    "train.shape"
   ]
  },
  {
   "cell_type": "code",
   "execution_count": 34,
   "id": "0376c7a8",
   "metadata": {},
   "outputs": [],
   "source": [
    "train_x = train.iloc[:,:-1]\n",
    "train_y = train.iloc[:,-1]"
   ]
  },
  {
   "cell_type": "code",
   "execution_count": 35,
   "id": "040fec82",
   "metadata": {},
   "outputs": [
    {
     "data": {
      "text/html": [
       "<div>\n",
       "<style scoped>\n",
       "    .dataframe tbody tr th:only-of-type {\n",
       "        vertical-align: middle;\n",
       "    }\n",
       "\n",
       "    .dataframe tbody tr th {\n",
       "        vertical-align: top;\n",
       "    }\n",
       "\n",
       "    .dataframe thead th {\n",
       "        text-align: right;\n",
       "    }\n",
       "</style>\n",
       "<table border=\"1\" class=\"dataframe\">\n",
       "  <thead>\n",
       "    <tr style=\"text-align: right;\">\n",
       "      <th></th>\n",
       "      <th>year</th>\n",
       "      <th>duration</th>\n",
       "      <th>votes</th>\n",
       "      <th>awards_wins</th>\n",
       "      <th>awards_nominations</th>\n",
       "      <th>Oscar_Best_Picture_won</th>\n",
       "      <th>Oscar_nominated</th>\n",
       "      <th>Golden_Globes_won</th>\n",
       "      <th>Golden_Globes_nominated</th>\n",
       "      <th>BAFTA_won</th>\n",
       "      <th>...</th>\n",
       "      <th>Hollywood_Film_nominated_categories</th>\n",
       "      <th>Austin_Film_Critics_Association_won_categories</th>\n",
       "      <th>Austin_Film_Critics_Association_nominated_categories</th>\n",
       "      <th>Denver_Film_Critics_Society_won_categories</th>\n",
       "      <th>Denver_Film_Critics_Society_nominated_categories</th>\n",
       "      <th>Boston_Society_of_Film_Critics_won_categories</th>\n",
       "      <th>Boston_Society_of_Film_Critics_nominated_categories</th>\n",
       "      <th>New_York_Film_Critics_Circle_won_categories</th>\n",
       "      <th>New_York_Film_Critics_Circle_nominated_categories</th>\n",
       "      <th>Los_Angeles_Film_Critics_Association_won_categories</th>\n",
       "    </tr>\n",
       "  </thead>\n",
       "  <tbody>\n",
       "    <tr>\n",
       "      <th>0</th>\n",
       "      <td>2001.0</td>\n",
       "      <td>118.0</td>\n",
       "      <td>66660.0</td>\n",
       "      <td>1.0</td>\n",
       "      <td>4.0</td>\n",
       "      <td>0.0</td>\n",
       "      <td>1.0</td>\n",
       "      <td>1.0</td>\n",
       "      <td>2.0</td>\n",
       "      <td>0.0</td>\n",
       "      <td>...</td>\n",
       "      <td>4</td>\n",
       "      <td>6</td>\n",
       "      <td>41</td>\n",
       "      <td>1</td>\n",
       "      <td>39</td>\n",
       "      <td>8</td>\n",
       "      <td>74</td>\n",
       "      <td>13</td>\n",
       "      <td>19</td>\n",
       "      <td>12</td>\n",
       "    </tr>\n",
       "    <tr>\n",
       "      <th>1</th>\n",
       "      <td>2000.0</td>\n",
       "      <td>84.0</td>\n",
       "      <td>144475.0</td>\n",
       "      <td>5.0</td>\n",
       "      <td>11.0</td>\n",
       "      <td>0.0</td>\n",
       "      <td>0.0</td>\n",
       "      <td>0.0</td>\n",
       "      <td>1.0</td>\n",
       "      <td>0.0</td>\n",
       "      <td>...</td>\n",
       "      <td>4</td>\n",
       "      <td>6</td>\n",
       "      <td>41</td>\n",
       "      <td>1</td>\n",
       "      <td>39</td>\n",
       "      <td>8</td>\n",
       "      <td>74</td>\n",
       "      <td>13</td>\n",
       "      <td>19</td>\n",
       "      <td>12</td>\n",
       "    </tr>\n",
       "    <tr>\n",
       "      <th>2</th>\n",
       "      <td>2005.0</td>\n",
       "      <td>106.0</td>\n",
       "      <td>273203.0</td>\n",
       "      <td>0.0</td>\n",
       "      <td>0.0</td>\n",
       "      <td>0.0</td>\n",
       "      <td>0.0</td>\n",
       "      <td>0.0</td>\n",
       "      <td>0.0</td>\n",
       "      <td>0.0</td>\n",
       "      <td>...</td>\n",
       "      <td>4</td>\n",
       "      <td>6</td>\n",
       "      <td>41</td>\n",
       "      <td>1</td>\n",
       "      <td>39</td>\n",
       "      <td>8</td>\n",
       "      <td>74</td>\n",
       "      <td>13</td>\n",
       "      <td>19</td>\n",
       "      <td>12</td>\n",
       "    </tr>\n",
       "    <tr>\n",
       "      <th>3</th>\n",
       "      <td>2002.0</td>\n",
       "      <td>123.0</td>\n",
       "      <td>63852.0</td>\n",
       "      <td>2.0</td>\n",
       "      <td>12.0</td>\n",
       "      <td>0.0</td>\n",
       "      <td>6.0</td>\n",
       "      <td>1.0</td>\n",
       "      <td>2.0</td>\n",
       "      <td>1.0</td>\n",
       "      <td>...</td>\n",
       "      <td>4</td>\n",
       "      <td>6</td>\n",
       "      <td>41</td>\n",
       "      <td>1</td>\n",
       "      <td>39</td>\n",
       "      <td>8</td>\n",
       "      <td>74</td>\n",
       "      <td>13</td>\n",
       "      <td>19</td>\n",
       "      <td>12</td>\n",
       "    </tr>\n",
       "    <tr>\n",
       "      <th>4</th>\n",
       "      <td>2001.0</td>\n",
       "      <td>178.0</td>\n",
       "      <td>1286275.0</td>\n",
       "      <td>26.0</td>\n",
       "      <td>67.0</td>\n",
       "      <td>0.0</td>\n",
       "      <td>13.0</td>\n",
       "      <td>0.0</td>\n",
       "      <td>4.0</td>\n",
       "      <td>5.0</td>\n",
       "      <td>...</td>\n",
       "      <td>4</td>\n",
       "      <td>6</td>\n",
       "      <td>60</td>\n",
       "      <td>1</td>\n",
       "      <td>39</td>\n",
       "      <td>8</td>\n",
       "      <td>26</td>\n",
       "      <td>13</td>\n",
       "      <td>19</td>\n",
       "      <td>25</td>\n",
       "    </tr>\n",
       "  </tbody>\n",
       "</table>\n",
       "<p>5 rows × 103 columns</p>\n",
       "</div>"
      ],
      "text/plain": [
       "     year  duration      votes  awards_wins  awards_nominations  \\\n",
       "0  2001.0     118.0    66660.0          1.0                 4.0   \n",
       "1  2000.0      84.0   144475.0          5.0                11.0   \n",
       "2  2005.0     106.0   273203.0          0.0                 0.0   \n",
       "3  2002.0     123.0    63852.0          2.0                12.0   \n",
       "4  2001.0     178.0  1286275.0         26.0                67.0   \n",
       "\n",
       "   Oscar_Best_Picture_won  Oscar_nominated  Golden_Globes_won  \\\n",
       "0                     0.0              1.0                1.0   \n",
       "1                     0.0              0.0                0.0   \n",
       "2                     0.0              0.0                0.0   \n",
       "3                     0.0              6.0                1.0   \n",
       "4                     0.0             13.0                0.0   \n",
       "\n",
       "   Golden_Globes_nominated  BAFTA_won  ...  \\\n",
       "0                      2.0        0.0  ...   \n",
       "1                      1.0        0.0  ...   \n",
       "2                      0.0        0.0  ...   \n",
       "3                      2.0        1.0  ...   \n",
       "4                      4.0        5.0  ...   \n",
       "\n",
       "   Hollywood_Film_nominated_categories  \\\n",
       "0                                    4   \n",
       "1                                    4   \n",
       "2                                    4   \n",
       "3                                    4   \n",
       "4                                    4   \n",
       "\n",
       "   Austin_Film_Critics_Association_won_categories  \\\n",
       "0                                               6   \n",
       "1                                               6   \n",
       "2                                               6   \n",
       "3                                               6   \n",
       "4                                               6   \n",
       "\n",
       "   Austin_Film_Critics_Association_nominated_categories  \\\n",
       "0                                                 41      \n",
       "1                                                 41      \n",
       "2                                                 41      \n",
       "3                                                 41      \n",
       "4                                                 60      \n",
       "\n",
       "   Denver_Film_Critics_Society_won_categories  \\\n",
       "0                                           1   \n",
       "1                                           1   \n",
       "2                                           1   \n",
       "3                                           1   \n",
       "4                                           1   \n",
       "\n",
       "   Denver_Film_Critics_Society_nominated_categories  \\\n",
       "0                                                39   \n",
       "1                                                39   \n",
       "2                                                39   \n",
       "3                                                39   \n",
       "4                                                39   \n",
       "\n",
       "   Boston_Society_of_Film_Critics_won_categories  \\\n",
       "0                                              8   \n",
       "1                                              8   \n",
       "2                                              8   \n",
       "3                                              8   \n",
       "4                                              8   \n",
       "\n",
       "   Boston_Society_of_Film_Critics_nominated_categories  \\\n",
       "0                                                 74     \n",
       "1                                                 74     \n",
       "2                                                 74     \n",
       "3                                                 74     \n",
       "4                                                 26     \n",
       "\n",
       "   New_York_Film_Critics_Circle_won_categories  \\\n",
       "0                                           13   \n",
       "1                                           13   \n",
       "2                                           13   \n",
       "3                                           13   \n",
       "4                                           13   \n",
       "\n",
       "   New_York_Film_Critics_Circle_nominated_categories  \\\n",
       "0                                                 19   \n",
       "1                                                 19   \n",
       "2                                                 19   \n",
       "3                                                 19   \n",
       "4                                                 19   \n",
       "\n",
       "   Los_Angeles_Film_Critics_Association_won_categories  \n",
       "0                                                 12    \n",
       "1                                                 12    \n",
       "2                                                 12    \n",
       "3                                                 12    \n",
       "4                                                 25    \n",
       "\n",
       "[5 rows x 103 columns]"
      ]
     },
     "execution_count": 35,
     "metadata": {},
     "output_type": "execute_result"
    }
   ],
   "source": [
    "train_x.head()"
   ]
  },
  {
   "cell_type": "code",
   "execution_count": 36,
   "id": "d960d522",
   "metadata": {},
   "outputs": [],
   "source": [
    "test_x = test.iloc[:,:-1]\n",
    "test_y = test.iloc[:,-1]"
   ]
  },
  {
   "cell_type": "code",
   "execution_count": 37,
   "id": "18ae9d9a",
   "metadata": {},
   "outputs": [
    {
     "data": {
      "text/plain": [
       "(34, 104)"
      ]
     },
     "execution_count": 37,
     "metadata": {},
     "output_type": "execute_result"
    }
   ],
   "source": [
    "test.shape"
   ]
  },
  {
   "cell_type": "markdown",
   "id": "8dbf9e0c",
   "metadata": {},
   "source": [
    "# Create a tree-based model to predict the target “Oscar_Best_Picture_won”"
   ]
  },
  {
   "cell_type": "code",
   "execution_count": 38,
   "id": "9f3bda53",
   "metadata": {},
   "outputs": [],
   "source": [
    "from sklearn import tree"
   ]
  },
  {
   "cell_type": "code",
   "execution_count": 39,
   "id": "eea3f014",
   "metadata": {},
   "outputs": [],
   "source": [
    "clf = tree.DecisionTreeClassifier()\n",
    "clf = clf.fit(train_x, train_y)"
   ]
  },
  {
   "cell_type": "markdown",
   "id": "9f95e2a7",
   "metadata": {},
   "source": [
    "# Use the model to predict the test dataset and find the maximum predicted value"
   ]
  },
  {
   "cell_type": "code",
   "execution_count": 40,
   "id": "62067d10",
   "metadata": {},
   "outputs": [],
   "source": [
    "pred_y = clf.predict(test_x)"
   ]
  },
  {
   "cell_type": "code",
   "execution_count": 41,
   "id": "9fd7a3d8",
   "metadata": {},
   "outputs": [
    {
     "data": {
      "text/plain": [
       "array([81, 20, 20, 20, 75, 20, 20, 20, 20, 20, 20, 81, 20, 20, 76, 20, 20,\n",
       "       20, 90, 20,  0, 20, 20, 20, 20, 20, 20, 20,  6, 20, 20, 20, 20, 20])"
      ]
     },
     "execution_count": 41,
     "metadata": {},
     "output_type": "execute_result"
    }
   ],
   "source": [
    "pred_y"
   ]
  },
  {
   "cell_type": "code",
   "execution_count": 42,
   "id": "c441420a",
   "metadata": {},
   "outputs": [
    {
     "data": {
      "text/plain": [
       "772     47\n",
       "880     20\n",
       "938     20\n",
       "946     20\n",
       "968     68\n",
       "1037    20\n",
       "1136    20\n",
       "1147    20\n",
       "1159    20\n",
       "1161    20\n",
       "1172    20\n",
       "1173    75\n",
       "1174    20\n",
       "1183    20\n",
       "1185    16\n",
       "1186    20\n",
       "1190    20\n",
       "1192    20\n",
       "1193    40\n",
       "1199    20\n",
       "1201     0\n",
       "1203    20\n",
       "1204    20\n",
       "1205    20\n",
       "1206    20\n",
       "1209    20\n",
       "1212    20\n",
       "1215    20\n",
       "1217    93\n",
       "1219    20\n",
       "1220    20\n",
       "1231    20\n",
       "1233    20\n",
       "1234    20\n",
       "Name: Los_Angeles_Film_Critics_Association_nominated_categories, dtype: int32"
      ]
     },
     "execution_count": 42,
     "metadata": {},
     "output_type": "execute_result"
    }
   ],
   "source": [
    "test_y"
   ]
  },
  {
   "cell_type": "code",
   "execution_count": 43,
   "id": "32b95263",
   "metadata": {},
   "outputs": [],
   "source": [
    "pred_data = pd.DataFrame(pred_y)"
   ]
  },
  {
   "cell_type": "code",
   "execution_count": 45,
   "id": "ba96eb5e",
   "metadata": {},
   "outputs": [
    {
     "data": {
      "text/plain": [
       "20    27\n",
       "81     2\n",
       "75     1\n",
       "76     1\n",
       "90     1\n",
       "0      1\n",
       "6      1\n",
       "Name: 0, dtype: int64"
      ]
     },
     "execution_count": 45,
     "metadata": {},
     "output_type": "execute_result"
    }
   ],
   "source": [
    "pred_data[0].value_counts()"
   ]
  },
  {
   "cell_type": "markdown",
   "id": "b57ef4d9",
   "metadata": {},
   "source": [
    "# 20 is the most predicted value as per the Decision Tree Model"
   ]
  }
 ],
 "metadata": {
  "kernelspec": {
   "display_name": "Python 3 (ipykernel)",
   "language": "python",
   "name": "python3"
  },
  "language_info": {
   "codemirror_mode": {
    "name": "ipython",
    "version": 3
   },
   "file_extension": ".py",
   "mimetype": "text/x-python",
   "name": "python",
   "nbconvert_exporter": "python",
   "pygments_lexer": "ipython3",
   "version": "3.9.13"
  }
 },
 "nbformat": 4,
 "nbformat_minor": 5
}
